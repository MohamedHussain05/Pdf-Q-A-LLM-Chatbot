{
 "cells": [
  {
   "cell_type": "code",
   "execution_count": 1,
   "metadata": {},
   "outputs": [],
   "source": [
    "import os\n",
    "import streamlit as st\n",
    "from langchain_groq import ChatGroq\n",
    "from langchain_community.document_loaders import PyPDFLoader\n",
    "from langchain_text_splitters import RecursiveCharacterTextSplitter\n",
    "from langchain_huggingface import HuggingFaceEmbeddings\n",
    "from langchain_community.vectorstores import FAISS\n",
    "\n",
    "from langchain.chains import create_history_aware_retriever\n",
    "from langchain.chains.combine_documents import create_stuff_documents_chain\n",
    "from langchain.chains.retrieval import create_retrieval_chain\n",
    "\n",
    "\n",
    "from langchain_core.chat_history  import BaseChatMessageHistory\n",
    "from langchain_community.chat_message_histories import ChatMessageHistory\n",
    "from langchain_core.runnables.history import RunnableWithMessageHistory\n",
    "\n",
    "from langchain_core.prompts import ChatPromptTemplate,MessagesPlaceholder"
   ]
  },
  {
   "cell_type": "markdown",
   "metadata": {},
   "source": [
    "# -----------------------------------------------------------------"
   ]
  },
  {
   "cell_type": "code",
   "execution_count": null,
   "metadata": {},
   "outputs": [],
   "source": [
    "#History Aware Chains\n",
    "        contextualize_prompt=(\n",
    "                                        \"Given a chat history and the latest user question\"\n",
    "                                        \"which might reference context in the chat history,\"\n",
    "                                        \"formulate a standalone question which can be understood\"\n",
    "                                        \"without the chat history. Do NOT answer the question,\"\n",
    "                                        \"just reformulate if it needed and otherwise return it as is\"    \n",
    "                                    )\n",
    "        prompt=ChatPromptTemplate.from_messages(\n",
    "            [\n",
    "                ('system',contextualize_prompt),\n",
    "                MessagesPlaceholder('chat_history'),\n",
    "                ('human','{input}'),\n",
    "            ]\n",
    "        )\n",
    "        \n",
    "        history_aware_retriever=create_history_aware_retriever(llm,retriever,prompt)"
   ]
  },
  {
   "cell_type": "markdown",
   "metadata": {},
   "source": [
    "## Rephrasing the Question:\n",
    "The contextualize_prompt is used to instruct the model to take the chat history and the latest user question, and then reformulate the question if necessary. This ensures that the question can be understood without needing the chat history.\n",
    "The ChatPromptTemplate.from_messages creates a template that includes the system’s instructions (contextualize_prompt), the chat history (MessagesPlaceholder('chat_history')), and the user’s input ('human', '{input}').\n",
    "## Fetching Documents:\n",
    "The create_history_aware_retriever(llm, retriever, prompt) function uses the prompt to generate a search query that incorporates the context from the chat history.\n",
    "This search query is then passed to the retriever, which fetches relevant documents based on the query.\n",
    "Summary\n",
    "## Rephrasing: \n",
    "        The model reformulates the user’s question using the chat history to make it standalone.\n",
    "## Retrieving:\n",
    "         The reformulated question is used to fetch relevant documents, ensuring the retrieval process is context-aware.\n",
    "\n",
    "## How It Works\n",
    "Rephrasing the Question: The history_aware_retriever uses the prompt to reformulate the user’s question based on the chat history.\n",
    "\n",
    "Generating a Search Query: This reformulated question is used to create a search query.\n",
    "\n",
    "Fetching Documents: The search query is passed to the retriever, which fetches the relevant documents."
   ]
  },
  {
   "cell_type": "markdown",
   "metadata": {},
   "source": []
  },
  {
   "cell_type": "markdown",
   "metadata": {},
   "source": [
    "# -----------------------------------------------------------------------"
   ]
  },
  {
   "cell_type": "code",
   "execution_count": null,
   "metadata": {},
   "outputs": [],
   "source": [
    "#Question Answering chain\n",
    "        system_prompt = (\n",
    "            \"You are an assistant for question-answering tasks. \"\n",
    "            \"Use the following pieces of retrieved context to answer \"\n",
    "            \"the question. If you don't know the answer, say that you\"\n",
    "            \"don't know. Use three sentences maximum and keep the\"\n",
    "            \"answer concise.\"\n",
    "            \"\\n\\n\"\n",
    "            \"{context}\") \n",
    "        \n",
    "        qa_prompt=ChatPromptTemplate.from_messages(\n",
    "            [\n",
    "                ('system',system_prompt),\n",
    "                MessagesPlaceholder('chat_history'),\n",
    "                ('human','{input}'),\n",
    "            ]\n",
    "        )\n",
    "        question_answer_chain=create_stuff_documents_chain(llm,qa_prompt)\n",
    "        rag_chain=create_retrieval_chain(history_aware_retriever,question_answer_chain)\n",
    "        \n",
    "        conversational_rag_chain=RunnableWithMessageHistory(\n",
    "                                                                rag_chain,\n",
    "                                                                get_session_history,\n",
    "                                                                input_messages_key='input',\n",
    "                                                                history_messages_key='chat_message',\n",
    "                                                                output_messages_key='answer'"
   ]
  },
  {
   "cell_type": "markdown",
   "metadata": {},
   "source": [
    "## Question Answering Chain:\n",
    "Purpose: To answer the user’s question using retrieved context.\n",
    "\n",
    "Prompt: system_prompt provides instructions for the model to answer the question concisely using the retrieved context. If the model doesn’t know the answer, it should say so.\n",
    "\n",
    "Template: Another ChatPromptTemplate.from_messages is used here to structure the conversation, including the system’s instructions, the chat history, and the user’s input. This ensures the model can provide a relevant and concise answer based on the context."
   ]
  },
  {
   "cell_type": "markdown",
   "metadata": {},
   "source": []
  }
 ],
 "metadata": {
  "kernelspec": {
   "display_name": "Python 3",
   "language": "python",
   "name": "python3"
  },
  "language_info": {
   "codemirror_mode": {
    "name": "ipython",
    "version": 3
   },
   "file_extension": ".py",
   "mimetype": "text/x-python",
   "name": "python",
   "nbconvert_exporter": "python",
   "pygments_lexer": "ipython3",
   "version": "3.10.14"
  }
 },
 "nbformat": 4,
 "nbformat_minor": 2
}
